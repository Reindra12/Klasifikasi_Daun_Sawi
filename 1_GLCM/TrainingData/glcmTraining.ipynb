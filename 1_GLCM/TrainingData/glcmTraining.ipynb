{
 "cells": [
  {
   "cell_type": "code",
   "execution_count": 53,
   "metadata": {},
   "outputs": [],
   "source": [
    "import numpy as np\n",
    "import cv2 as cv\n",
    "import matplotlib.pyplot as plt\n",
    "import math\n",
    "import pandas as pd\n",
    "import imutils.paths as path\n",
    "from tqdm import tqdm\n",
    "import os\n",
    "from sklearn.preprocessing import LabelEncoder"
   ]
  },
  {
   "cell_type": "code",
   "execution_count": 54,
   "metadata": {},
   "outputs": [
    {
     "name": "stdout",
     "output_type": "stream",
     "text": [
      "jumlah ['1.png', '10.png', '100.png', '101.png', '102.png', '103.png', '104.png', '105.png', '106.png', '107.png', '108.png', '109.png', '11.png', '110.png', '111.png', '112.png', '113.png', '114.png', '115.png', '116.png', '117.png', '118.png', '119.png', '12.png', '120.png', '121.png', '122.png', '123.png', '124.png', '125.png', '126.png', '127.png', '128.png', '129.png', '13.png', '130.png', '131.png', '132.png', '133.png', '134.png', '135.png', '136.png', '137.png', '138.png', '139.png', '14.png', '140.png', '141.png', '142.png', '143.png', '144.png', '145.png', '146.png', '147.png', '148.png', '149.png', '15.png', '150.png', '151.png', '152.png', '153.png', '154.png', '155.png', '156.png', '157.png', '158.png', '159.png', '16.png', '160.png', '161.png', '162.png', '163.png', '164.png', '165.png', '166.png', '167.png', '168.png', '169.png', '17.png', '170.png', '171.png', '172.png', '173.png', '174.png', '175.png', '176.png', '177.png', '178.png', '179.png', '18.png', '180.png', '181.png', '182.png', '183.png', '184.png', '185.png', '186.png', '187.png', '188.png', '189.png', '19.png', '190.png', '191.png', '192.png', '193.png', '194.png', '195.png', '196.png', '197.png', '198.png', '199.png', '2.png', '20.png', '200.png', '201.png', '202.png', '203.png', '204.png', '205.png', '206.png', '207.png', '208.png', '209.png', '21.png', '210.png', '211.png', '212.png', '213.png', '214.png', '215.png', '216.png', '217.png', '218.png', '219.png', '22.png', '220.png', '221.png', '222.png', '223.png', '224.png', '225.png', '226.png', '227.png', '228.png', '229.png', '23.png', '230.png', '231.png', '232.png', '233.png', '234.png', '235.png', '236.png', '237.png', '238.png', '239.png', '24.png', '240.png', '241.png', '242.png', '243.png', '244.png', '245.png', '246.png', '247.png', '248.png', '249.png', '25.png', '250.png', '251.png', '252.png', '253.png', '254.png', '255.png', '256.png', '257.png', '258.png', '259.png', '26.png', '260.png', '261.png', '262.png', '263.png', '264.png', '265.png', '266.png', '267.png', '268.png', '269.png', '27.png', '270.png', '271.png', '272.png', '273.png', '274.png', '275.png', '276.png', '277.png', '278.png', '279.png', '28.png', '280.png', '281.png', '282.png', '283.png', '284.png', '285.png', '286.png', '287.png', '288.png', '289.png', '29.png', '290.png', '291.png', '292.png', '293.png', '294.png', '295.png', '296.png', '297.png', '298.png', '299.png', '3.png', '30.png', '300.png', '301.png', '302.png', '303.png', '304.png', '305.png', '306.png', '307.png', '308.png', '309.png', '31.png', '310.png', '311.png', '312.png', '313.png', '314.png', '315.png', '316.png', '317.png', '318.png', '319.png', '32.png', '320.png', '321.png', '322.png', '323.png', '324.png', '325.png', '326.png', '327.png', '328.png', '329.png', '33.png', '330.png', '331.png', '332.png', '333.png', '334.png', '335.png', '336.png', '337.png', '338.png', '339.png', '34.png', '340.png', '341.png', '342.png', '343.png', '344.png', '345.png', '346.png', '347.png', '348.png', '349.png', '35.png', '350.png', '351.png', '352.png', '353.png', '354.png', '355.png', '356.png', '357.png', '358.png', '359.png', '36.png', '360.png', '361.png', '362.png', '363.png', '364.png', '365.png', '366.png', '367.png', '368.png', '369.png', '37.png', '370.png', '371.png', '372.png', '373.png', '374.png', '375.png', '376.png', '377.png', '378.png', '379.png', '38.png', '380.png', '381.png', '382.png', '383.png', '384.png', '385.png', '386.png', '387.png', '388.png', '389.png', '39.png', '390.png', '391.png', '392.png', '393.png', '394.png', '395.png', '396.png', '397.png', '398.png', '399.png', '4.png', '40.png', '400.png', '41.png', '42.png', '43.png', '44.png', '45.png', '46.png', '47.png', '48.png', '49.png', '5.png', '50.png', '51.png', '52.png', '53.png', '54.png', '55.png', '56.png', '57.png', '58.png', '59.png', '6.png', '60.png', '61.png', '62.png', '63.png', '64.png', '65.png', '66.png', '67.png', '68.png', '69.png', '7.png', '70.png', '71.png', '72.png', '73.png', '74.png', '75.png', '76.png', '77.png', '78.png', '79.png', '8.png', '80.png', '81.png', '82.png', '83.png', '84.png', '85.png', '86.png', '87.png', '88.png', '89.png', '9.png', '90.png', '91.png', '92.png', '93.png', '94.png', '95.png', '96.png', '97.png', '98.png', '99.png']\n"
     ]
    },
    {
     "name": "stderr",
     "output_type": "stream",
     "text": [
      "load:   1%|          | 4/400 [00:00<00:23, 17.10it/s]"
     ]
    },
    {
     "name": "stderr",
     "output_type": "stream",
     "text": [
      "load: 100%|██████████| 400/400 [00:12<00:00, 32.76it/s]\n"
     ]
    }
   ],
   "source": [
    "PATH = 'F:/applications/python/Klasifikasi_Daun_Sawi/Dataset/training/TANPA HAMA'\n",
    "\n",
    "imgtraining1 = os.path.join(PATH)\n",
    "filenames = os.listdir(imgtraining1)\n",
    "\n",
    "print(\"jumlah\", filenames) \n",
    "imagePaths = sorted(list(path.list_images(PATH)))\n",
    "\n",
    "data=[]\n",
    "for i in tqdm(imagePaths, desc=\"load\"):\n",
    "    imgg = cv.imread(i)\n",
    "    img = cv.cvtColor(imgg, cv.COLOR_BGR2GRAY)\n",
    "    imgrgb = cv.cvtColor(imgg, cv.COLOR_RGB2BGR)\n",
    "    a = cv.resize(img, (700, 700))\n",
    "    data.append(a)\n",
    "    # print(imgrgb)"
   ]
  },
  {
   "cell_type": "code",
   "execution_count": 55,
   "metadata": {},
   "outputs": [],
   "source": [
    "def derajat0 (img):\n",
    "    max  = np.max(img)\n",
    "    imgTmp = np.zeros([max+1, max+1])\n",
    "    for i in range (len(img)):\n",
    "        for j in range (len(img[i])-1):\n",
    "            imgTmp[img[i,j],img[i,j+1]] += 1\n",
    "            \n",
    "    transpos = np.transpose(imgTmp)\n",
    "    data = imgTmp+transpos\n",
    "    \n",
    "    tmp = 0\n",
    "    for i in range (len(data)):\n",
    "        for j in range (len(data)):\n",
    "            tmp+=data[i,j]\n",
    "            \n",
    "    for i in range (len(data)):\n",
    "        for j in range(len(data)):\n",
    "            data[i,j]/=tmp\n",
    " \n",
    "    return data\n",
    "# print(data)"
   ]
  },
  {
   "cell_type": "code",
   "execution_count": 56,
   "metadata": {},
   "outputs": [],
   "source": [
    "def derajat45 (img):\n",
    "    max  = np.max(img)\n",
    "    imgTmp = np.zeros([max+1, max+1])\n",
    "    for i in range (len(img)-1):\n",
    "        for j in range (len(img[i])-1):\n",
    "            imgTmp[img[i+1,j],img[i,j+1]] += 1\n",
    "            \n",
    "    transpos = np.transpose(imgTmp)\n",
    "    data = imgTmp+transpos\n",
    "    \n",
    "    tmp = 0\n",
    "    for i in range(len(data)):\n",
    "        for j in range (len(data)):\n",
    "            tmp+=data[i,j]\n",
    "            \n",
    "    for i in range (len (data)):\n",
    "        for j in range(len(data)):\n",
    "            data[i,j]/=tmp\n",
    "    return data\n",
    "# print(data)"
   ]
  },
  {
   "cell_type": "code",
   "execution_count": 57,
   "metadata": {},
   "outputs": [],
   "source": [
    "def derajat90 (img):\n",
    "    max  = np.max(img)\n",
    "    imgTmp = np.zeros([max+1, max+1])\n",
    "    for i in range (len (img)-1):\n",
    "        for j in range (len (img[i])):\n",
    "            imgTmp[img[i+1,j],img[i,j]] += 1\n",
    "            \n",
    "    transpos = np.transpose(imgTmp)\n",
    "    data = imgTmp+transpos\n",
    "    \n",
    "    tmp = 0\n",
    "    for i in range(len(data)):\n",
    "        for j in range (len(data)):\n",
    "            tmp+=data[i,j]\n",
    "            \n",
    "    for i in range (len (data)):\n",
    "        for j in range(len(data)):\n",
    "            data[i,j]/=tmp\n",
    "    return data"
   ]
  },
  {
   "cell_type": "code",
   "execution_count": 58,
   "metadata": {},
   "outputs": [],
   "source": [
    "def derajat135 (img):\n",
    "    max  = np.max(img)\n",
    "    imgTmp = np.zeros([max+1, max+1])\n",
    "    for i in range (len (img)-1):\n",
    "        for j in range (len (img[i])-1):\n",
    "            imgTmp[img[i,j],img[i+1,j+1]] += 1\n",
    "            \n",
    "    transpos = np.transpose(imgTmp)\n",
    "    data = imgTmp+transpos\n",
    "    \n",
    "    tmp = 0\n",
    "    for i in range(len(data)):\n",
    "        for j in range (len(data)):\n",
    "            tmp+=data[i,j]\n",
    "            \n",
    "    for i in range (len(data)):\n",
    "        for j in range(len(data)):\n",
    "            data[i,j]/=tmp\n",
    "    return data"
   ]
  },
  {
   "cell_type": "code",
   "execution_count": 59,
   "metadata": {},
   "outputs": [
    {
     "name": "stderr",
     "output_type": "stream",
     "text": [
      "GLCM:   0%|          | 0/400 [00:00<?, ?it/s]"
     ]
    },
    {
     "name": "stderr",
     "output_type": "stream",
     "text": [
      "GLCM: 100%|██████████| 400/400 [19:55<00:00,  2.99s/it]\n"
     ]
    }
   ],
   "source": [
    "hasil = []\n",
    "for i in tqdm (range (len (data)),desc='GLCM'):\n",
    "    dat = []\n",
    "    dat.append(derajat0 (data[i]))\n",
    "    dat.append(derajat45 (data[i]))\n",
    "    dat.append(derajat90 (data[i]))\n",
    "    dat.append(derajat135 (data[i]))\n",
    "    hasil.append(dat)\n",
    "    # print(dat)\n",
    "    "
   ]
  },
  {
   "cell_type": "code",
   "execution_count": 60,
   "metadata": {},
   "outputs": [],
   "source": [
    "def contras (data):\n",
    "    contras = 0\n",
    "    for i in range (len (data)):\n",
    "        for j in range (len (data)):\n",
    "            contras+=data[i,j]*pow(i-j,2)\n",
    "    return contras"
   ]
  },
  {
   "cell_type": "code",
   "execution_count": 61,
   "metadata": {},
   "outputs": [],
   "source": [
    "def entropy (data):\n",
    "    entro = 0\n",
    "    for i in range (len (data)):\n",
    "        for j in range (len (data)):\n",
    "            if data[i,j] > 0.0:\n",
    "                entro += -(data[i,j] * math.log(data[i,j]))\n",
    "    return entro"
   ]
  },
  {
   "cell_type": "code",
   "execution_count": 62,
   "metadata": {},
   "outputs": [],
   "source": [
    "def homogentitas (data):\n",
    "    homogen = 0\n",
    "    for i in range (len (data)):\n",
    "        for j in range (len (data)):\n",
    "            homogen+=data[i,j] * (1+(pow(i-j,2)))\n",
    "    return homogen"
   ]
  },
  {
   "cell_type": "code",
   "execution_count": 63,
   "metadata": {},
   "outputs": [],
   "source": [
    "def energi (data):\n",
    "    ener = 0\n",
    "    for i in range (len (data)):\n",
    "        for j in range (len (data)):\n",
    "            ener += data[i,j]**2\n",
    "               \n",
    "    return ener"
   ]
  },
  {
   "cell_type": "code",
   "execution_count": 64,
   "metadata": {},
   "outputs": [
    {
     "name": "stderr",
     "output_type": "stream",
     "text": [
      "Ekstaksi: 100%|██████████| 400/400 [05:34<00:00,  1.19it/s]\n"
     ]
    }
   ],
   "source": [
    "data0energi=[]\n",
    "data0 = []\n",
    "x = ['0','45','90','135']\n",
    "labelClass = \"Folder 01\"\n",
    "folder = []\n",
    "data45 = []\n",
    "data90 = []\n",
    "data135 = []\n",
    "hasilnya = []\n",
    "jumlahdata = 0\n",
    "\n",
    "for j in tqdm (range(len(hasil)),desc=\"Ekstaksi\"):\n",
    "    da = []\n",
    "    if jumlahdata <= 500:\n",
    "        \n",
    "        da.append(filenames[j])\n",
    "        for i in hasil[j]:\n",
    "            dx = energi (i)\n",
    "            da.append(dx)\n",
    "            \n",
    "            labelClass = np.array([i])\n",
    "            \n",
    "            dh = homogentitas (i)\n",
    "            da.append(dh)\n",
    "            \n",
    "            den = entropy (i)\n",
    "            da.append(den)\n",
    "            \n",
    "            dco = contras (i)\n",
    "            da.append(dco)\n",
    "            \n",
    "        # insertoCsv('G3',da)   \n",
    "        hasilnya.append(da)"
   ]
  },
  {
   "cell_type": "code",
   "execution_count": 65,
   "metadata": {},
   "outputs": [],
   "source": [
    "namatabel = [\"Citra\",\"energy_0\", \"homogenity_0\", \"entrophy_0\", \"contrast_0\", \"energy_45\", \"homogenity_45\", \"entrophy_45\", \"contrast_45\"\n",
    ", \"energy_90\", \"homogenity_90\", \"entrophy_90\", \"contrast_90\", \"energy_135\", \"homogenity_135\", \"entrophy_135\", \"contrast_135\"]\n",
    "df = pd.DataFrame(hasilnya, columns=namatabel)\n",
    "# label 0 = tidak berformalin\n",
    "df.insert(17, column = \"Label\", value = 0)  \n",
    "df.to_csv(r'EkstraksiDaunTANPAHAMA_Training.csv', index=False)"
   ]
  }
 ],
 "metadata": {
  "kernelspec": {
   "display_name": "env",
   "language": "python",
   "name": "python3"
  },
  "language_info": {
   "codemirror_mode": {
    "name": "ipython",
    "version": 3
   },
   "file_extension": ".py",
   "mimetype": "text/x-python",
   "name": "python",
   "nbconvert_exporter": "python",
   "pygments_lexer": "ipython3",
   "version": "3.10.9"
  },
  "orig_nbformat": 4
 },
 "nbformat": 4,
 "nbformat_minor": 2
}
