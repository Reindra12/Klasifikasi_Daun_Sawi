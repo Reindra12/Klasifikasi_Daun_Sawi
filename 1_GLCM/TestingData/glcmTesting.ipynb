{
 "cells": [
  {
   "cell_type": "code",
   "execution_count": 40,
   "metadata": {},
   "outputs": [],
   "source": [
    "import numpy as np\n",
    "import cv2 as cv\n",
    "import matplotlib.pyplot as plt\n",
    "import math\n",
    "import pandas as pd\n",
    "import imutils.paths as path\n",
    "from tqdm import tqdm\n",
    "import os\n",
    "from sklearn.preprocessing import LabelEncoder"
   ]
  },
  {
   "cell_type": "code",
   "execution_count": 41,
   "metadata": {},
   "outputs": [
    {
     "name": "stdout",
     "output_type": "stream",
     "text": [
      "jumlah ['401.png', '402.png', '403.png', '404.png', '405.png', '406.png', '407.png', '408.png', '409.png', '410.png', '411.png', '412.png', '413.png', '414.png', '415.png', '416.png', '417.png', '418.png', '419.png', '420.png', '421.png', '422.png', '423.png', '424.png', '425.png', '426.png', '427.png', '428.png', '429.png', '430.png', '431.png', '432.png', '433.png', '434.png', '435.png', '436.png', '437.png', '438.png', '439.png', '440.png', '441.png', '442.png', '443.png', '444.png', '445.png', '446.png', '447.png', '448.png', '449.png', '450.png', '451.png', '452.png', '453.png', '454.png', '455.png', '456.png', '457.png', '458.png', '459.png', '460.png', '461.png', '462.png', '463.png', '464.png', '465.png', '466.png', '467.png', '468.png', '469.png', '470.png', '471.png', '472.png', '473.png', '474.png', '475.png', '476.png', '477.png', '478.png', '479.png', '480.png', '481.png', '482.png', '483.png', '484.png', '485.png', '486.png', '487.png', '488.png', '489.png', '490.png', '491.png', '492.png', '493.png', '494.png', '495.png', '496.png', '497.png', '498.png', '499.png', '500.png']\n"
     ]
    },
    {
     "name": "stderr",
     "output_type": "stream",
     "text": [
      "load:   0%|          | 0/100 [00:00<?, ?it/s]"
     ]
    },
    {
     "name": "stderr",
     "output_type": "stream",
     "text": [
      "load: 100%|██████████| 100/100 [00:04<00:00, 24.94it/s]\n"
     ]
    }
   ],
   "source": [
    "PATH = 'F:/applications/python/Klasifikasi_Daun_Sawi/Dataset/testing/ADA HAMA'\n",
    "\n",
    "imgtraining1 = os.path.join(PATH)\n",
    "filenames = os.listdir(imgtraining1)\n",
    "\n",
    "print(\"jumlah\", filenames) \n",
    "imagePaths = sorted(list(path.list_images(PATH)))\n",
    "\n",
    "data=[]\n",
    "for i in tqdm(imagePaths, desc=\"load\"):\n",
    "    imgg = cv.imread(i)\n",
    "    img = cv.cvtColor(imgg, cv.COLOR_BGR2GRAY)\n",
    "    imgrgb = cv.cvtColor(imgg, cv.COLOR_RGB2BGR)\n",
    "    a = cv.resize(img, (700, 700))\n",
    "    data.append(a)\n",
    "    # print(imgrgb)"
   ]
  },
  {
   "cell_type": "code",
   "execution_count": 42,
   "metadata": {},
   "outputs": [],
   "source": [
    "def derajat0 (img):\n",
    "    max  = np.max(img)\n",
    "    imgTmp = np.zeros([max+1, max+1])\n",
    "    for i in range (len(img)):\n",
    "        for j in range (len(img[i])-1):\n",
    "            imgTmp[img[i,j],img[i,j+1]] += 1\n",
    "            \n",
    "    transpos = np.transpose(imgTmp)\n",
    "    data = imgTmp+transpos\n",
    "    \n",
    "    tmp = 0\n",
    "    for i in range (len(data)):\n",
    "        for j in range (len(data)):\n",
    "            tmp+=data[i,j]\n",
    "            \n",
    "    for i in range (len(data)):\n",
    "        for j in range(len(data)):\n",
    "            data[i,j]/=tmp\n",
    " \n",
    "    return data\n",
    "# print(data)"
   ]
  },
  {
   "cell_type": "code",
   "execution_count": 43,
   "metadata": {},
   "outputs": [],
   "source": [
    "def derajat45 (img):\n",
    "    max  = np.max(img)\n",
    "    imgTmp = np.zeros([max+1, max+1])\n",
    "    for i in range (len(img)-1):\n",
    "        for j in range (len(img[i])-1):\n",
    "            imgTmp[img[i+1,j],img[i,j+1]] += 1\n",
    "            \n",
    "    transpos = np.transpose(imgTmp)\n",
    "    data = imgTmp+transpos\n",
    "    \n",
    "    tmp = 0\n",
    "    for i in range(len(data)):\n",
    "        for j in range (len(data)):\n",
    "            tmp+=data[i,j]\n",
    "            \n",
    "    for i in range (len (data)):\n",
    "        for j in range(len(data)):\n",
    "            data[i,j]/=tmp\n",
    "    return data\n",
    "# print(data)"
   ]
  },
  {
   "cell_type": "code",
   "execution_count": 44,
   "metadata": {},
   "outputs": [],
   "source": [
    "def derajat90 (img):\n",
    "    max  = np.max(img)\n",
    "    imgTmp = np.zeros([max+1, max+1])\n",
    "    for i in range (len (img)-1):\n",
    "        for j in range (len (img[i])):\n",
    "            imgTmp[img[i+1,j],img[i,j]] += 1\n",
    "            \n",
    "    transpos = np.transpose(imgTmp)\n",
    "    data = imgTmp+transpos\n",
    "    \n",
    "    tmp = 0\n",
    "    for i in range(len(data)):\n",
    "        for j in range (len(data)):\n",
    "            tmp+=data[i,j]\n",
    "            \n",
    "    for i in range (len (data)):\n",
    "        for j in range(len(data)):\n",
    "            data[i,j]/=tmp\n",
    "    return data"
   ]
  },
  {
   "cell_type": "code",
   "execution_count": 45,
   "metadata": {},
   "outputs": [],
   "source": [
    "def derajat135 (img):\n",
    "    max  = np.max(img)\n",
    "    imgTmp = np.zeros([max+1, max+1])\n",
    "    for i in range (len (img)-1):\n",
    "        for j in range (len (img[i])-1):\n",
    "            imgTmp[img[i,j],img[i+1,j+1]] += 1\n",
    "            \n",
    "    transpos = np.transpose(imgTmp)\n",
    "    data = imgTmp+transpos\n",
    "    \n",
    "    tmp = 0\n",
    "    for i in range(len(data)):\n",
    "        for j in range (len(data)):\n",
    "            tmp+=data[i,j]\n",
    "            \n",
    "    for i in range (len(data)):\n",
    "        for j in range(len(data)):\n",
    "            data[i,j]/=tmp\n",
    "    return data"
   ]
  },
  {
   "cell_type": "code",
   "execution_count": 46,
   "metadata": {},
   "outputs": [
    {
     "name": "stderr",
     "output_type": "stream",
     "text": [
      "GLCM:   0%|          | 0/100 [00:00<?, ?it/s]"
     ]
    },
    {
     "name": "stderr",
     "output_type": "stream",
     "text": [
      "GLCM: 100%|██████████| 100/100 [06:27<00:00,  3.87s/it]\n"
     ]
    }
   ],
   "source": [
    "hasil = []\n",
    "for i in tqdm (range (len (data)),desc='GLCM'):\n",
    "    dat = []\n",
    "    dat.append(derajat0 (data[i]))\n",
    "    dat.append(derajat45 (data[i]))\n",
    "    dat.append(derajat90 (data[i]))\n",
    "    dat.append(derajat135 (data[i]))\n",
    "    hasil.append(dat)\n",
    "    # print(dat)\n",
    "    "
   ]
  },
  {
   "cell_type": "code",
   "execution_count": 47,
   "metadata": {},
   "outputs": [],
   "source": [
    "def contras (data):\n",
    "    contras = 0\n",
    "    for i in range (len (data)):\n",
    "        for j in range (len (data)):\n",
    "            contras+=data[i,j]*pow(i-j,2)\n",
    "    return contras"
   ]
  },
  {
   "cell_type": "code",
   "execution_count": 48,
   "metadata": {},
   "outputs": [],
   "source": [
    "def entropy (data):\n",
    "    entro = 0\n",
    "    for i in range (len (data)):\n",
    "        for j in range (len (data)):\n",
    "            if data[i,j] > 0.0:\n",
    "                entro += -(data[i,j] * math.log(data[i,j]))\n",
    "    return entro"
   ]
  },
  {
   "cell_type": "code",
   "execution_count": 49,
   "metadata": {},
   "outputs": [],
   "source": [
    "def homogentitas (data):\n",
    "    homogen = 0\n",
    "    for i in range (len (data)):\n",
    "        for j in range (len (data)):\n",
    "            homogen+=data[i,j] * (1+(pow(i-j,2)))\n",
    "    return homogen"
   ]
  },
  {
   "cell_type": "code",
   "execution_count": 50,
   "metadata": {},
   "outputs": [],
   "source": [
    "def energi (data):\n",
    "    ener = 0\n",
    "    for i in range (len (data)):\n",
    "        for j in range (len (data)):\n",
    "            ener += data[i,j]**2\n",
    "               \n",
    "    return ener"
   ]
  },
  {
   "cell_type": "code",
   "execution_count": 51,
   "metadata": {},
   "outputs": [
    {
     "name": "stderr",
     "output_type": "stream",
     "text": [
      "Ekstaksi: 100%|██████████| 100/100 [01:45<00:00,  1.06s/it]\n"
     ]
    }
   ],
   "source": [
    "data0energi=[]\n",
    "data0 = []\n",
    "x = ['0','45','90','135']\n",
    "labelClass = \"Folder 01\"\n",
    "folder = []\n",
    "data45 = []\n",
    "data90 = []\n",
    "data135 = []\n",
    "hasilnya = []\n",
    "jumlahdata = 0\n",
    "\n",
    "for j in tqdm (range(len(hasil)),desc=\"Ekstaksi\"):\n",
    "    da = []\n",
    "    if jumlahdata <= 500:\n",
    "        \n",
    "        da.append(filenames[j])\n",
    "        for i in hasil[j]:\n",
    "            dx = energi (i)\n",
    "            da.append(dx)\n",
    "            \n",
    "            labelClass = np.array([i])\n",
    "            \n",
    "            dh = homogentitas (i)\n",
    "            da.append(dh)\n",
    "            \n",
    "            den = entropy (i)\n",
    "            da.append(den)\n",
    "            \n",
    "            dco = contras (i)\n",
    "            da.append(dco)\n",
    "            \n",
    "        # insertoCsv('G3',da)   \n",
    "        hasilnya.append(da)"
   ]
  },
  {
   "cell_type": "code",
   "execution_count": 52,
   "metadata": {},
   "outputs": [],
   "source": [
    "namatabel = [\"Citra\",\"energy_0\", \"homogenity_0\", \"entrophy_0\", \"contrast_0\", \"energy_45\", \"homogenity_45\", \"entrophy_45\", \"contrast_45\"\n",
    ", \"energy_90\", \"homogenity_90\", \"entrophy_90\", \"contrast_90\", \"energy_135\", \"homogenity_135\", \"entrophy_135\", \"contrast_135\"]\n",
    "df = pd.DataFrame(hasilnya, columns=namatabel)\n",
    "# label 0 = tidak berformalin\n",
    "df.insert(17, column = \"Label\", value = 1)  \n",
    "df.to_csv(r'EkstraksiDaunADAHAMA_Testing.csv', index=False)"
   ]
  }
 ],
 "metadata": {
  "kernelspec": {
   "display_name": "env",
   "language": "python",
   "name": "python3"
  },
  "language_info": {
   "codemirror_mode": {
    "name": "ipython",
    "version": 3
   },
   "file_extension": ".py",
   "mimetype": "text/x-python",
   "name": "python",
   "nbconvert_exporter": "python",
   "pygments_lexer": "ipython3",
   "version": "3.10.9"
  },
  "orig_nbformat": 4
 },
 "nbformat": 4,
 "nbformat_minor": 2
}
